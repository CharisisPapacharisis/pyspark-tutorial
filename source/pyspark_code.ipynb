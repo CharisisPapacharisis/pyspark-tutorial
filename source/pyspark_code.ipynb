{
 "cells": [
  {
   "cell_type": "code",
   "execution_count": null,
   "metadata": {},
   "outputs": [],
   "source": [
    "# Imports\n",
    "#\"Col\" function allows operations on the columns of the pyspark dataframe\n",
    "from pyspark.sql import SparkSession\n",
    "from pyspark.sql.functions import col  \n",
    "import pandas as pd\n",
    "from pyspark.sql.functions import udf, max, col, expr\n",
    "from pyspark.sql.window import Window"
   ]
  },
  {
   "cell_type": "code",
   "execution_count": 2,
   "metadata": {},
   "outputs": [],
   "source": [
    "import findspark \n",
    "findspark.init()  "
   ]
  },
  {
   "cell_type": "code",
   "execution_count": 3,
   "metadata": {},
   "outputs": [],
   "source": [
    "# Create a Spark session\n",
    "spark = (\n",
    "    SparkSession\n",
    "    .builder\n",
    "    .master(\"local\")\n",
    "    .appName(\"PySpark project\")\n",
    "    .getOrCreate()\n",
    ")"
   ]
  },
  {
   "cell_type": "code",
   "execution_count": 4,
   "metadata": {},
   "outputs": [
    {
     "name": "stdout",
     "output_type": "stream",
     "text": [
      "3.4.2\n"
     ]
    }
   ],
   "source": [
    "# Print Spark version\n",
    "print(spark.version)"
   ]
  },
  {
   "cell_type": "code",
   "execution_count": 5,
   "metadata": {},
   "outputs": [],
   "source": [
    "\n",
    "# Read consumer data from csv file\n",
    "consumers_csv = \"../data/consumers.csv\"\n",
    "consumers = spark\\\n",
    "        .read.format(\"csv\")\\\n",
    "        .option(\"inferSchema\", \"True\")\\\n",
    "        .option(\"header\", \"True\")\\\n",
    "        .csv(consumers_csv)"
   ]
  },
  {
   "cell_type": "code",
   "execution_count": 6,
   "metadata": {},
   "outputs": [
    {
     "name": "stdout",
     "output_type": "stream",
     "text": [
      "(138, 14)\n"
     ]
    }
   ],
   "source": [
    "# Check dataframe shape\n",
    "print((consumers.count(), len(consumers.columns)))"
   ]
  },
  {
   "cell_type": "code",
   "execution_count": 7,
   "metadata": {},
   "outputs": [
    {
     "data": {
      "text/plain": [
       "1"
      ]
     },
     "execution_count": 7,
     "metadata": {},
     "output_type": "execute_result"
    }
   ],
   "source": [
    "# Check number of partitions\n",
    "consumers.rdd.getNumPartitions()"
   ]
  },
  {
   "cell_type": "code",
   "execution_count": 8,
   "metadata": {},
   "outputs": [
    {
     "name": "stdout",
     "output_type": "stream",
     "text": [
      "+-----------+---------------+---------------+-------+---------+-----------+------+--------------+---------------------+--------------+-----------+---+----------+------+\n",
      "|Consumer_ID|           City|          State|Country| Latitude|  Longitude|Smoker|   Drink_Level|Transportation_Method|Marital_Status|   Children|Age|Occupation|Budget|\n",
      "+-----------+---------------+---------------+-------+---------+-----------+------+--------------+---------------------+--------------+-----------+---+----------+------+\n",
      "|      U1001|San Luis Potosi|San Luis Potosi| Mexico|22.139997|-100.978803|    No|    Abstemious|              On Foot|        Single|Independent| 23|   Student|Medium|\n",
      "|      U1002|San Luis Potosi|San Luis Potosi| Mexico|22.150087|-100.983325|    No|    Abstemious|               Public|        Single|Independent| 22|   Student|   Low|\n",
      "|      U1003|San Luis Potosi|San Luis Potosi| Mexico|22.119847|-100.946527|    No|Social Drinker|               Public|        Single|Independent| 23|   Student|   Low|\n",
      "|      U1004|     Cuernavaca|        Morelos| Mexico|   18.867|    -99.183|    No|    Abstemious|               Public|        Single|Independent| 72|  Employed|Medium|\n",
      "|      U1005|San Luis Potosi|San Luis Potosi| Mexico|22.183477|-100.959891|    No|    Abstemious|               Public|        Single|Independent| 20|   Student|Medium|\n",
      "|      U1006|San Luis Potosi|San Luis Potosi| Mexico|    22.15|   -100.983|   Yes|Social Drinker|                  Car|        Single|Independent| 23|   Student|Medium|\n",
      "|      U1007|San Luis Potosi|San Luis Potosi| Mexico|22.118464|-100.938256|    No|Casual Drinker|               Public|        Single|Independent| 23|   Student|   Low|\n",
      "|      U1008|San Luis Potosi|San Luis Potosi| Mexico|22.122989|-100.923811|    No|Social Drinker|               Public|        Single|Independent| 23|   Student|   Low|\n",
      "|      U1009|San Luis Potosi|San Luis Potosi| Mexico|22.159427|-100.990448|    No|    Abstemious|              On Foot|        Single|       Kids| 21|   Student|Medium|\n",
      "|      U1010|San Luis Potosi|San Luis Potosi| Mexico|22.190889|-100.998669|    No|Social Drinker|                  Car|       Married|       Kids| 25|   Student|Medium|\n",
      "+-----------+---------------+---------------+-------+---------+-----------+------+--------------+---------------------+--------------+-----------+---+----------+------+\n",
      "only showing top 10 rows\n",
      "\n"
     ]
    }
   ],
   "source": [
    "# Show first 10 lines of dataframe\n",
    "consumers.show(10)"
   ]
  },
  {
   "cell_type": "code",
   "execution_count": 9,
   "metadata": {},
   "outputs": [
    {
     "name": "stdout",
     "output_type": "stream",
     "text": [
      "root\n",
      " |-- Consumer_ID: string (nullable = true)\n",
      " |-- City: string (nullable = true)\n",
      " |-- State: string (nullable = true)\n",
      " |-- Country: string (nullable = true)\n",
      " |-- Latitude: double (nullable = true)\n",
      " |-- Longitude: double (nullable = true)\n",
      " |-- Smoker: string (nullable = true)\n",
      " |-- Drink_Level: string (nullable = true)\n",
      " |-- Transportation_Method: string (nullable = true)\n",
      " |-- Marital_Status: string (nullable = true)\n",
      " |-- Children: string (nullable = true)\n",
      " |-- Age: integer (nullable = true)\n",
      " |-- Occupation: string (nullable = true)\n",
      " |-- Budget: string (nullable = true)\n",
      "\n"
     ]
    }
   ],
   "source": [
    "\n",
    "# Check columns types\n",
    "consumers.printSchema()"
   ]
  },
  {
   "cell_type": "code",
   "execution_count": 10,
   "metadata": {},
   "outputs": [
    {
     "name": "stdout",
     "output_type": "stream",
     "text": [
      "+---------------+\n",
      "|           City|\n",
      "+---------------+\n",
      "|     Cuernavaca|\n",
      "|Ciudad Victoria|\n",
      "|       Jiutepec|\n",
      "|San Luis Potosi|\n",
      "+---------------+\n",
      "\n"
     ]
    }
   ],
   "source": [
    "# Show distinct values of a column\n",
    "consumers.select('City').distinct().show()"
   ]
  },
  {
   "cell_type": "code",
   "execution_count": 11,
   "metadata": {},
   "outputs": [
    {
     "name": "stdout",
     "output_type": "stream",
     "text": [
      "+---+\n",
      "|Age|\n",
      "+---+\n",
      "| 82|\n",
      "| 72|\n",
      "| 69|\n",
      "| 60|\n",
      "| 45|\n",
      "| 43|\n",
      "| 33|\n",
      "| 31|\n",
      "| 30|\n",
      "| 29|\n",
      "| 28|\n",
      "| 27|\n",
      "| 26|\n",
      "| 25|\n",
      "| 24|\n",
      "| 23|\n",
      "| 22|\n",
      "| 21|\n",
      "| 20|\n",
      "| 19|\n",
      "+---+\n",
      "only showing top 20 rows\n",
      "\n"
     ]
    }
   ],
   "source": [
    "# Show distinct values of a column and sort\n",
    "consumers.select('Age').distinct().orderBy('Age',ascending=False).show()"
   ]
  },
  {
   "cell_type": "code",
   "execution_count": 12,
   "metadata": {},
   "outputs": [],
   "source": [
    "# Rename columns\n",
    "consumers = consumers.withColumnRenamed(\"Smoker\", \"Smoking\")"
   ]
  },
  {
   "cell_type": "code",
   "execution_count": 13,
   "metadata": {},
   "outputs": [
    {
     "name": "stdout",
     "output_type": "stream",
     "text": [
      "root\n",
      " |-- Consumer_ID: string (nullable = true)\n",
      " |-- City: string (nullable = true)\n",
      " |-- State: string (nullable = true)\n",
      " |-- Country: string (nullable = true)\n",
      " |-- Latitude: double (nullable = true)\n",
      " |-- Longitude: double (nullable = true)\n",
      " |-- Smoking: string (nullable = true)\n",
      " |-- Drink_Level: string (nullable = true)\n",
      " |-- Transportation_Method: string (nullable = true)\n",
      " |-- Marital_Status: string (nullable = true)\n",
      " |-- Children: string (nullable = true)\n",
      " |-- Age: integer (nullable = true)\n",
      " |-- Occupation: string (nullable = true)\n",
      " |-- Budget: string (nullable = true)\n",
      "\n"
     ]
    }
   ],
   "source": [
    "# Check again the schema, to see the new column name\n",
    "consumers.printSchema()"
   ]
  },
  {
   "cell_type": "code",
   "execution_count": 14,
   "metadata": {},
   "outputs": [],
   "source": [
    "# Create Temporary View on top of the pyspark dataframe. Then you can use SQL to query this view.\n",
    "consumers.createOrReplaceTempView(\"consumers_temp\")"
   ]
  },
  {
   "cell_type": "code",
   "execution_count": 15,
   "metadata": {},
   "outputs": [
    {
     "name": "stdout",
     "output_type": "stream",
     "text": [
      "+---------------+-----+\n",
      "|           CITY|COUNT|\n",
      "+---------------+-----+\n",
      "|     Cuernavaca|   22|\n",
      "|Ciudad Victoria|   25|\n",
      "|       Jiutepec|    5|\n",
      "|San Luis Potosi|   86|\n",
      "+---------------+-----+\n",
      "\n"
     ]
    }
   ],
   "source": [
    "# Run a query: show how many consumers we have per city\n",
    "consumers_per_city = spark.sql(\"Select City as City, Count(*) AS Count from consumers_temp group by City\")\n",
    "\n",
    "#show output\n",
    "consumers_per_city.show()"
   ]
  },
  {
   "cell_type": "markdown",
   "metadata": {},
   "source": [
    "Sometimes, you might want to use Pandas methods on your dataset. You have the option to convert your Pyspark dataframe to a Pandas dataframe."
   ]
  },
  {
   "cell_type": "code",
   "execution_count": 16,
   "metadata": {},
   "outputs": [
    {
     "data": {
      "text/html": [
       "<div>\n",
       "<style scoped>\n",
       "    .dataframe tbody tr th:only-of-type {\n",
       "        vertical-align: middle;\n",
       "    }\n",
       "\n",
       "    .dataframe tbody tr th {\n",
       "        vertical-align: top;\n",
       "    }\n",
       "\n",
       "    .dataframe thead th {\n",
       "        text-align: right;\n",
       "    }\n",
       "</style>\n",
       "<table border=\"1\" class=\"dataframe\">\n",
       "  <thead>\n",
       "    <tr style=\"text-align: right;\">\n",
       "      <th></th>\n",
       "      <th>Consumer_ID</th>\n",
       "      <th>City</th>\n",
       "      <th>State</th>\n",
       "      <th>Country</th>\n",
       "      <th>Latitude</th>\n",
       "      <th>Longitude</th>\n",
       "      <th>Smoking</th>\n",
       "      <th>Drink_Level</th>\n",
       "      <th>Transportation_Method</th>\n",
       "      <th>Marital_Status</th>\n",
       "      <th>Children</th>\n",
       "      <th>Age</th>\n",
       "      <th>Occupation</th>\n",
       "      <th>Budget</th>\n",
       "    </tr>\n",
       "  </thead>\n",
       "  <tbody>\n",
       "    <tr>\n",
       "      <th>0</th>\n",
       "      <td>U1001</td>\n",
       "      <td>San Luis Potosi</td>\n",
       "      <td>San Luis Potosi</td>\n",
       "      <td>Mexico</td>\n",
       "      <td>22.139997</td>\n",
       "      <td>-100.978803</td>\n",
       "      <td>No</td>\n",
       "      <td>Abstemious</td>\n",
       "      <td>On Foot</td>\n",
       "      <td>Single</td>\n",
       "      <td>Independent</td>\n",
       "      <td>23</td>\n",
       "      <td>Student</td>\n",
       "      <td>Medium</td>\n",
       "    </tr>\n",
       "    <tr>\n",
       "      <th>1</th>\n",
       "      <td>U1002</td>\n",
       "      <td>San Luis Potosi</td>\n",
       "      <td>San Luis Potosi</td>\n",
       "      <td>Mexico</td>\n",
       "      <td>22.150087</td>\n",
       "      <td>-100.983325</td>\n",
       "      <td>No</td>\n",
       "      <td>Abstemious</td>\n",
       "      <td>Public</td>\n",
       "      <td>Single</td>\n",
       "      <td>Independent</td>\n",
       "      <td>22</td>\n",
       "      <td>Student</td>\n",
       "      <td>Low</td>\n",
       "    </tr>\n",
       "    <tr>\n",
       "      <th>2</th>\n",
       "      <td>U1003</td>\n",
       "      <td>San Luis Potosi</td>\n",
       "      <td>San Luis Potosi</td>\n",
       "      <td>Mexico</td>\n",
       "      <td>22.119847</td>\n",
       "      <td>-100.946527</td>\n",
       "      <td>No</td>\n",
       "      <td>Social Drinker</td>\n",
       "      <td>Public</td>\n",
       "      <td>Single</td>\n",
       "      <td>Independent</td>\n",
       "      <td>23</td>\n",
       "      <td>Student</td>\n",
       "      <td>Low</td>\n",
       "    </tr>\n",
       "    <tr>\n",
       "      <th>3</th>\n",
       "      <td>U1004</td>\n",
       "      <td>Cuernavaca</td>\n",
       "      <td>Morelos</td>\n",
       "      <td>Mexico</td>\n",
       "      <td>18.867000</td>\n",
       "      <td>-99.183000</td>\n",
       "      <td>No</td>\n",
       "      <td>Abstemious</td>\n",
       "      <td>Public</td>\n",
       "      <td>Single</td>\n",
       "      <td>Independent</td>\n",
       "      <td>72</td>\n",
       "      <td>Employed</td>\n",
       "      <td>Medium</td>\n",
       "    </tr>\n",
       "    <tr>\n",
       "      <th>4</th>\n",
       "      <td>U1005</td>\n",
       "      <td>San Luis Potosi</td>\n",
       "      <td>San Luis Potosi</td>\n",
       "      <td>Mexico</td>\n",
       "      <td>22.183477</td>\n",
       "      <td>-100.959891</td>\n",
       "      <td>No</td>\n",
       "      <td>Abstemious</td>\n",
       "      <td>Public</td>\n",
       "      <td>Single</td>\n",
       "      <td>Independent</td>\n",
       "      <td>20</td>\n",
       "      <td>Student</td>\n",
       "      <td>Medium</td>\n",
       "    </tr>\n",
       "    <tr>\n",
       "      <th>5</th>\n",
       "      <td>U1006</td>\n",
       "      <td>San Luis Potosi</td>\n",
       "      <td>San Luis Potosi</td>\n",
       "      <td>Mexico</td>\n",
       "      <td>22.150000</td>\n",
       "      <td>-100.983000</td>\n",
       "      <td>Yes</td>\n",
       "      <td>Social Drinker</td>\n",
       "      <td>Car</td>\n",
       "      <td>Single</td>\n",
       "      <td>Independent</td>\n",
       "      <td>23</td>\n",
       "      <td>Student</td>\n",
       "      <td>Medium</td>\n",
       "    </tr>\n",
       "    <tr>\n",
       "      <th>6</th>\n",
       "      <td>U1007</td>\n",
       "      <td>San Luis Potosi</td>\n",
       "      <td>San Luis Potosi</td>\n",
       "      <td>Mexico</td>\n",
       "      <td>22.118464</td>\n",
       "      <td>-100.938256</td>\n",
       "      <td>No</td>\n",
       "      <td>Casual Drinker</td>\n",
       "      <td>Public</td>\n",
       "      <td>Single</td>\n",
       "      <td>Independent</td>\n",
       "      <td>23</td>\n",
       "      <td>Student</td>\n",
       "      <td>Low</td>\n",
       "    </tr>\n",
       "    <tr>\n",
       "      <th>7</th>\n",
       "      <td>U1008</td>\n",
       "      <td>San Luis Potosi</td>\n",
       "      <td>San Luis Potosi</td>\n",
       "      <td>Mexico</td>\n",
       "      <td>22.122989</td>\n",
       "      <td>-100.923811</td>\n",
       "      <td>No</td>\n",
       "      <td>Social Drinker</td>\n",
       "      <td>Public</td>\n",
       "      <td>Single</td>\n",
       "      <td>Independent</td>\n",
       "      <td>23</td>\n",
       "      <td>Student</td>\n",
       "      <td>Low</td>\n",
       "    </tr>\n",
       "    <tr>\n",
       "      <th>8</th>\n",
       "      <td>U1009</td>\n",
       "      <td>San Luis Potosi</td>\n",
       "      <td>San Luis Potosi</td>\n",
       "      <td>Mexico</td>\n",
       "      <td>22.159427</td>\n",
       "      <td>-100.990448</td>\n",
       "      <td>No</td>\n",
       "      <td>Abstemious</td>\n",
       "      <td>On Foot</td>\n",
       "      <td>Single</td>\n",
       "      <td>Kids</td>\n",
       "      <td>21</td>\n",
       "      <td>Student</td>\n",
       "      <td>Medium</td>\n",
       "    </tr>\n",
       "    <tr>\n",
       "      <th>9</th>\n",
       "      <td>U1010</td>\n",
       "      <td>San Luis Potosi</td>\n",
       "      <td>San Luis Potosi</td>\n",
       "      <td>Mexico</td>\n",
       "      <td>22.190889</td>\n",
       "      <td>-100.998669</td>\n",
       "      <td>No</td>\n",
       "      <td>Social Drinker</td>\n",
       "      <td>Car</td>\n",
       "      <td>Married</td>\n",
       "      <td>Kids</td>\n",
       "      <td>25</td>\n",
       "      <td>Student</td>\n",
       "      <td>Medium</td>\n",
       "    </tr>\n",
       "  </tbody>\n",
       "</table>\n",
       "</div>"
      ],
      "text/plain": [
       "  Consumer_ID             City            State Country   Latitude  \\\n",
       "0       U1001  San Luis Potosi  San Luis Potosi  Mexico  22.139997   \n",
       "1       U1002  San Luis Potosi  San Luis Potosi  Mexico  22.150087   \n",
       "2       U1003  San Luis Potosi  San Luis Potosi  Mexico  22.119847   \n",
       "3       U1004       Cuernavaca          Morelos  Mexico  18.867000   \n",
       "4       U1005  San Luis Potosi  San Luis Potosi  Mexico  22.183477   \n",
       "5       U1006  San Luis Potosi  San Luis Potosi  Mexico  22.150000   \n",
       "6       U1007  San Luis Potosi  San Luis Potosi  Mexico  22.118464   \n",
       "7       U1008  San Luis Potosi  San Luis Potosi  Mexico  22.122989   \n",
       "8       U1009  San Luis Potosi  San Luis Potosi  Mexico  22.159427   \n",
       "9       U1010  San Luis Potosi  San Luis Potosi  Mexico  22.190889   \n",
       "\n",
       "    Longitude Smoking     Drink_Level Transportation_Method Marital_Status  \\\n",
       "0 -100.978803      No      Abstemious               On Foot         Single   \n",
       "1 -100.983325      No      Abstemious                Public         Single   \n",
       "2 -100.946527      No  Social Drinker                Public         Single   \n",
       "3  -99.183000      No      Abstemious                Public         Single   \n",
       "4 -100.959891      No      Abstemious                Public         Single   \n",
       "5 -100.983000     Yes  Social Drinker                   Car         Single   \n",
       "6 -100.938256      No  Casual Drinker                Public         Single   \n",
       "7 -100.923811      No  Social Drinker                Public         Single   \n",
       "8 -100.990448      No      Abstemious               On Foot         Single   \n",
       "9 -100.998669      No  Social Drinker                   Car        Married   \n",
       "\n",
       "      Children  Age Occupation  Budget  \n",
       "0  Independent   23    Student  Medium  \n",
       "1  Independent   22    Student     Low  \n",
       "2  Independent   23    Student     Low  \n",
       "3  Independent   72   Employed  Medium  \n",
       "4  Independent   20    Student  Medium  \n",
       "5  Independent   23    Student  Medium  \n",
       "6  Independent   23    Student     Low  \n",
       "7  Independent   23    Student     Low  \n",
       "8         Kids   21    Student  Medium  \n",
       "9         Kids   25    Student  Medium  "
      ]
     },
     "execution_count": 16,
     "metadata": {},
     "output_type": "execute_result"
    }
   ],
   "source": [
    "# Use toPandas() method\n",
    "consumers_pandas  = consumers.toPandas()\n",
    "consumers_pandas.head(10)"
   ]
  },
  {
   "cell_type": "markdown",
   "metadata": {},
   "source": [
    "The opposite is also possible:"
   ]
  },
  {
   "cell_type": "code",
   "execution_count": 17,
   "metadata": {},
   "outputs": [
    {
     "name": "stdout",
     "output_type": "stream",
     "text": [
      "+-----------+---------------+---------------+-------+---------+-----------+-------+--------------+---------------------+--------------+-----------+---+----------+------+\n",
      "|Consumer_ID|           City|          State|Country| Latitude|  Longitude|Smoking|   Drink_Level|Transportation_Method|Marital_Status|   Children|Age|Occupation|Budget|\n",
      "+-----------+---------------+---------------+-------+---------+-----------+-------+--------------+---------------------+--------------+-----------+---+----------+------+\n",
      "|      U1001|San Luis Potosi|San Luis Potosi| Mexico|22.139997|-100.978803|     No|    Abstemious|              On Foot|        Single|Independent| 23|   Student|Medium|\n",
      "|      U1002|San Luis Potosi|San Luis Potosi| Mexico|22.150087|-100.983325|     No|    Abstemious|               Public|        Single|Independent| 22|   Student|   Low|\n",
      "|      U1003|San Luis Potosi|San Luis Potosi| Mexico|22.119847|-100.946527|     No|Social Drinker|               Public|        Single|Independent| 23|   Student|   Low|\n",
      "|      U1004|     Cuernavaca|        Morelos| Mexico|   18.867|    -99.183|     No|    Abstemious|               Public|        Single|Independent| 72|  Employed|Medium|\n",
      "|      U1005|San Luis Potosi|San Luis Potosi| Mexico|22.183477|-100.959891|     No|    Abstemious|               Public|        Single|Independent| 20|   Student|Medium|\n",
      "|      U1006|San Luis Potosi|San Luis Potosi| Mexico|    22.15|   -100.983|    Yes|Social Drinker|                  Car|        Single|Independent| 23|   Student|Medium|\n",
      "|      U1007|San Luis Potosi|San Luis Potosi| Mexico|22.118464|-100.938256|     No|Casual Drinker|               Public|        Single|Independent| 23|   Student|   Low|\n",
      "|      U1008|San Luis Potosi|San Luis Potosi| Mexico|22.122989|-100.923811|     No|Social Drinker|               Public|        Single|Independent| 23|   Student|   Low|\n",
      "|      U1009|San Luis Potosi|San Luis Potosi| Mexico|22.159427|-100.990448|     No|    Abstemious|              On Foot|        Single|       Kids| 21|   Student|Medium|\n",
      "|      U1010|San Luis Potosi|San Luis Potosi| Mexico|22.190889|-100.998669|     No|Social Drinker|                  Car|       Married|       Kids| 25|   Student|Medium|\n",
      "+-----------+---------------+---------------+-------+---------+-----------+-------+--------------+---------------------+--------------+-----------+---+----------+------+\n",
      "only showing top 10 rows\n",
      "\n"
     ]
    }
   ],
   "source": [
    "# Use createDataFrame()\n",
    "consumers_pyspark = spark.createDataFrame(consumers_pandas)\n",
    "consumers_pyspark.show(10)"
   ]
  },
  {
   "cell_type": "markdown",
   "metadata": {},
   "source": [
    "Similar to creating a TempView and using \"SELECT\" statements, you can use the .select() method of the pyspark dataframes, to just show a subset of all the Columns"
   ]
  },
  {
   "cell_type": "code",
   "execution_count": 18,
   "metadata": {},
   "outputs": [
    {
     "name": "stdout",
     "output_type": "stream",
     "text": [
      "+-------+--------------+\n",
      "|Smoking|   Drink_Level|\n",
      "+-------+--------------+\n",
      "|     No|    Abstemious|\n",
      "|     No|    Abstemious|\n",
      "|     No|Social Drinker|\n",
      "|     No|    Abstemious|\n",
      "|     No|    Abstemious|\n",
      "|    Yes|Social Drinker|\n",
      "|     No|Casual Drinker|\n",
      "|     No|Social Drinker|\n",
      "|     No|    Abstemious|\n",
      "|     No|Social Drinker|\n",
      "+-------+--------------+\n",
      "only showing top 10 rows\n",
      "\n"
     ]
    }
   ],
   "source": [
    "# Select() example\n",
    "consumers_subset = consumers.select(\"Smoking\",\"Drink_Level\").show(10)"
   ]
  },
  {
   "cell_type": "code",
   "execution_count": 19,
   "metadata": {},
   "outputs": [
    {
     "name": "stdout",
     "output_type": "stream",
     "text": [
      "+-----------+---------------+---------------+-------+---------+-----------+-------+--------------+---------------------+--------------+-----------+---+----------+------+\n",
      "|Consumer_ID|           City|          State|Country| Latitude|  Longitude|Smoking|   Drink_Level|Transportation_Method|Marital_Status|   Children|Age|Occupation|Budget|\n",
      "+-----------+---------------+---------------+-------+---------+-----------+-------+--------------+---------------------+--------------+-----------+---+----------+------+\n",
      "|      U1002|San Luis Potosi|San Luis Potosi| Mexico|22.150087|-100.983325|     No|    Abstemious|               Public|        Single|Independent| 22|   Student|   Low|\n",
      "|      U1003|San Luis Potosi|San Luis Potosi| Mexico|22.119847|-100.946527|     No|Social Drinker|               Public|        Single|Independent| 23|   Student|   Low|\n",
      "|      U1007|San Luis Potosi|San Luis Potosi| Mexico|22.118464|-100.938256|     No|Casual Drinker|               Public|        Single|Independent| 23|   Student|   Low|\n",
      "+-----------+---------------+---------------+-------+---------+-----------+-------+--------------+---------------------+--------------+-----------+---+----------+------+\n",
      "only showing top 3 rows\n",
      "\n"
     ]
    }
   ],
   "source": [
    "# Filter\n",
    "consumers.filter(consumers.Budget == 'Low').show(3)"
   ]
  },
  {
   "cell_type": "code",
   "execution_count": 20,
   "metadata": {},
   "outputs": [
    {
     "name": "stdout",
     "output_type": "stream",
     "text": [
      "+--------+\n",
      "|min(Age)|\n",
      "+--------+\n",
      "|      21|\n",
      "+--------+\n",
      "\n"
     ]
    }
   ],
   "source": [
    "# Aggregations, e.g. sum, avg, count, min, max\n",
    "\n",
    "# For example, find the younger age among the people with high budget\n",
    "consumers.filter(consumers.Budget == 'High').groupBy().min(\"Age\").show()"
   ]
  },
  {
   "cell_type": "code",
   "execution_count": 21,
   "metadata": {},
   "outputs": [
    {
     "name": "stdout",
     "output_type": "stream",
     "text": [
      "+-------------+------------------+---------------+---------------+-------+--------+----------+------------+---------------+---------------+-----+---------+------+-------+\n",
      "|Restaurant_ID|              Name|           City|          State|Country|Zip_Code|  Latitude|   Longitude|Alcohol_Service|Smoking_Allowed|Price|Franchise|  Area|Parking|\n",
      "+-------------+------------------+---------------+---------------+-------+--------+----------+------------+---------------+---------------+-----+---------+------+-------+\n",
      "|       132560|Puesto de Gorditas|Ciudad Victoria|     Tamaulipas| Mexico|    null|23.7523041| -99.1669133|           None|            Yes|  Low|       No|  Open| Public|\n",
      "|       132561|        Cafe Ambar|Ciudad Victoria|     Tamaulipas| Mexico|    null| 23.726819| -99.1265059|           None|             No|  Low|       No|Closed|   None|\n",
      "|       132564|          Church's|Ciudad Victoria|     Tamaulipas| Mexico|    null|23.7309245| -99.1451848|           None|             No|  Low|       No|Closed|   None|\n",
      "|       132572|      Cafe Chaires|San Luis Potosi|San Luis Potosi| Mexico|    null|22.1416471|-100.9927118|           None|             No|  Low|       No|Closed|    Yes|\n",
      "|       132583|  McDonalds Centro|     Cuernavaca|        Morelos| Mexico|   62000|18.9222904|  -99.234332|           None|             No|  Low|      Yes|Closed|   None|\n",
      "+-------------+------------------+---------------+---------------+-------+--------+----------+------------+---------------+---------------+-----+---------+------+-------+\n",
      "only showing top 5 rows\n",
      "\n"
     ]
    }
   ],
   "source": [
    "#Joins\n",
    "\n",
    "#bring in restaurants data from csv file\n",
    "restaurants_csv = \"../data/restaurants.csv\"\n",
    "restaurants = spark\\\n",
    "        .read.format(\"csv\")\\\n",
    "        .option(\"inferSchema\", \"True\")\\\n",
    "        .option(\"header\", \"True\")\\\n",
    "        .csv(restaurants_csv)\n",
    "\n",
    "restaurants.show(5)"
   ]
  },
  {
   "cell_type": "code",
   "execution_count": 22,
   "metadata": {},
   "outputs": [
    {
     "name": "stdout",
     "output_type": "stream",
     "text": [
      "+-----------+-------------+--------------+-----------+--------------+\n",
      "|Consumer_ID|Restaurant_ID|Overall_Rating|Food_Rating|Service_Rating|\n",
      "+-----------+-------------+--------------+-----------+--------------+\n",
      "|      U1077|       135085|             2|          2|             2|\n",
      "|      U1077|       135038|             2|          2|             1|\n",
      "|      U1077|       132825|             2|          2|             2|\n",
      "|      U1077|       135060|             1|          2|             2|\n",
      "|      U1068|       135104|             1|          1|             2|\n",
      "+-----------+-------------+--------------+-----------+--------------+\n",
      "only showing top 5 rows\n",
      "\n"
     ]
    }
   ],
   "source": [
    "# Read ratings data from csv file\n",
    "ratings_csv = \"../data/ratings.csv\"\n",
    "ratings = spark\\\n",
    "        .read.format(\"csv\")\\\n",
    "        .option(\"inferSchema\", \"True\")\\\n",
    "        .option(\"header\", \"True\")\\\n",
    "        .csv(ratings_csv)\n",
    "\n",
    "ratings.show(5)"
   ]
  },
  {
   "cell_type": "code",
   "execution_count": 23,
   "metadata": {},
   "outputs": [
    {
     "name": "stdout",
     "output_type": "stream",
     "text": [
      "+--------------------+--------------+-----------+\n",
      "|     Restaurant_Name|Overall_Rating|Consumer_ID|\n",
      "+--------------------+--------------+-----------+\n",
      "|Restaurante Versa...|             1|      U1001|\n",
      "|El Rincon De San ...|             2|      U1001|\n",
      "|Restaurant El Mul...|             1|      U1001|\n",
      "|Restaurante La Gr...|             1|      U1001|\n",
      "|Restaurant De Mar...|             1|      U1001|\n",
      "|Restaurant Los Co...|             1|      U1001|\n",
      "|Tortas Locas Hipo...|             0|      U1001|\n",
      "|     Puesto De Tacos|             2|      U1001|\n",
      "|     Rincon Huasteco|             1|      U1001|\n",
      "|Tortas Locas Hipo...|             1|      U1002|\n",
      "+--------------------+--------------+-----------+\n",
      "only showing top 10 rows\n",
      "\n"
     ]
    }
   ],
   "source": [
    "# Perform Left join between consumers with ratings and restaurants. \n",
    "# Same logic applies for inner, right, etc.\n",
    "joined_df = consumers.join(ratings, consumers['Consumer_ID']==ratings['Consumer_ID'], how=\"left\") \\\n",
    "                     .join (restaurants, ratings['Restaurant_ID']==restaurants['Restaurant_ID'], how=\"left\")\n",
    "\n",
    "# Select only the relevant columns that you want to present, with unambiguous reference, and renaming on the spot\n",
    "#with the alias method.\n",
    "joined_df_selection = joined_df.select(restaurants[\"Name\"].alias(\"Restaurant_Name\"), \\\n",
    "                                ratings['Overall_Rating'], consumers['Consumer_ID'])\n",
    "joined_df_selection.show(10)"
   ]
  },
  {
   "cell_type": "code",
   "execution_count": 24,
   "metadata": {},
   "outputs": [
    {
     "name": "stdout",
     "output_type": "stream",
     "text": [
      "+-------------------------+--------------+-----------+\n",
      "|Restaurant_Name          |Overall_Rating|Consumer_ID|\n",
      "+-------------------------+--------------+-----------+\n",
      "|Abondance Restaurante Bar|1             |U1008      |\n",
      "|Abondance Restaurante Bar|1             |U1014      |\n",
      "|Abondance Restaurante Bar|0             |U1018      |\n",
      "|Abondance Restaurante Bar|0             |U1064      |\n",
      "|Abondance Restaurante Bar|0             |U1069      |\n",
      "|Abondance Restaurante Bar|1             |U1081      |\n",
      "|Abondance Restaurante Bar|1             |U1088      |\n",
      "|Abondance Restaurante Bar|0             |U1094      |\n",
      "|Abondance Restaurante Bar|0             |U1105      |\n",
      "|Abondance Restaurante Bar|1             |U1115      |\n",
      "|Abondance Restaurante Bar|1             |U1124      |\n",
      "|Abondance Restaurante Bar|0             |U1126      |\n",
      "|Arrachela Grill          |0             |U1030      |\n",
      "|Arrachela Grill          |1             |U1072      |\n",
      "|Arrachela Grill          |2             |U1117      |\n",
      "|Cabana Huasteca          |1             |U1009      |\n",
      "|Cabana Huasteca          |2             |U1003      |\n",
      "|Cabana Huasteca          |0             |U1029      |\n",
      "|Cabana Huasteca          |2             |U1036      |\n",
      "|Cabana Huasteca          |1             |U1053      |\n",
      "+-------------------------+--------------+-----------+\n",
      "only showing top 20 rows\n",
      "\n"
     ]
    }
   ],
   "source": [
    "# To show the \"full column\", you can use the truncate=False option.\n",
    "joined_df_selection.orderBy(\"Restaurant_Name\").show(20,truncate=False)"
   ]
  },
  {
   "cell_type": "code",
   "execution_count": 25,
   "metadata": {},
   "outputs": [],
   "source": [
    "# Write to csv output. You can change the writing mode (e.g. \"overwrite\").\n",
    "# Notice that the output is a Folder, and not a single File.\n",
    "\n",
    "joined_df_selection.write.format(\"csv\").mode('overwrite').save(\"joined_df_selection_multiple.csv\")"
   ]
  },
  {
   "cell_type": "code",
   "execution_count": 26,
   "metadata": {},
   "outputs": [],
   "source": [
    "# Write to csv output, in one partition/part - coalesce(1)\n",
    "joined_df_selection.coalesce(1).write.format(\"csv\").mode('overwrite').save(\"joined_df_selection.csv\")"
   ]
  },
  {
   "cell_type": "code",
   "execution_count": 27,
   "metadata": {},
   "outputs": [],
   "source": [
    "# Pivoting:  Data transformation technique that converts rows into columns.\n",
    "# E.g. what if we want to pivot the above dataframe, and keep Restaurants in the rows, but \n",
    "# all different Rating Values in the columns, and count how many occurences we had for each? \n",
    "\n",
    "# Put in the pivot() parameter the column you wish to pivot."
   ]
  },
  {
   "cell_type": "code",
   "execution_count": 28,
   "metadata": {},
   "outputs": [],
   "source": [
    "pivot_df = joined_df_selection.groupBy(\"Restaurant_Name\").pivot(\"Overall_Rating\").count()"
   ]
  },
  {
   "cell_type": "code",
   "execution_count": 29,
   "metadata": {},
   "outputs": [
    {
     "name": "stdout",
     "output_type": "stream",
     "text": [
      "+-------------------------------------+----+----+----+\n",
      "|Restaurant_Name                      |0   |1   |2   |\n",
      "+-------------------------------------+----+----+----+\n",
      "|Abondance Restaurante Bar            |6   |6   |null|\n",
      "|Arrachela Grill                      |1   |1   |1   |\n",
      "|Cabana Huasteca                      |2   |3   |8   |\n",
      "|Cafe Ambar                           |1   |3   |null|\n",
      "|Cafe Chaires                         |3   |9   |3   |\n",
      "|Cafe Punta Del Cielo                 |null|1   |5   |\n",
      "|Cafeteria Cenidet                    |1   |4   |1   |\n",
      "|Cafeteria Y Restaurant El Pacifico   |7   |9   |12  |\n",
      "|Carl's Jr                            |null|4   |3   |\n",
      "|Carnitas Mata                        |1   |3   |2   |\n",
      "|Carnitas Mata  Calle 16 de Septiembre|3   |1   |null|\n",
      "|Carnitas Mata Calle Emilio Portes Gil|1   |1   |3   |\n",
      "|Carreton De Flautas Y Migadas        |3   |4   |1   |\n",
      "|Cenaduria El Rincón De Tlaquepaque   |2   |2   |1   |\n",
      "|Chaires                              |1   |1   |3   |\n",
      "|Chilis Cuernavaca                    |2   |null|2   |\n",
      "|Church's                             |null|3   |1   |\n",
      "|Crudalia                             |3   |7   |7   |\n",
      "|Dairy Queen                          |2   |1   |3   |\n",
      "|Dominos Pizza                        |1   |3   |2   |\n",
      "+-------------------------------------+----+----+----+\n",
      "only showing top 20 rows\n",
      "\n"
     ]
    }
   ],
   "source": [
    "pivot_df.orderBy(\"Restaurant_Name\").show(truncate=False)"
   ]
  },
  {
   "cell_type": "code",
   "execution_count": 30,
   "metadata": {},
   "outputs": [],
   "source": [
    "# User Defined Functions (UDFs)\n",
    "\n",
    "# Create a function to capitalize a string\n",
    "def capitalize(x):\n",
    "    return x.upper()"
   ]
  },
  {
   "cell_type": "code",
   "execution_count": 31,
   "metadata": {},
   "outputs": [],
   "source": [
    "# Convert the Python function to UDF\n",
    "\n",
    "upper_udf = udf(lambda z: capitalize(z))"
   ]
  },
  {
   "cell_type": "code",
   "execution_count": 32,
   "metadata": {},
   "outputs": [
    {
     "name": "stdout",
     "output_type": "stream",
     "text": [
      "+-----------+--------------------+\n",
      "|Consumer_ID|<lambda>(Occupation)|\n",
      "+-----------+--------------------+\n",
      "|      U1001|             STUDENT|\n",
      "|      U1002|             STUDENT|\n",
      "|      U1003|             STUDENT|\n",
      "|      U1004|            EMPLOYED|\n",
      "|      U1005|             STUDENT|\n",
      "+-----------+--------------------+\n",
      "only showing top 5 rows\n",
      "\n"
     ]
    }
   ],
   "source": [
    "# Apply the UDF to the Dataframe, to capitalize a certain column\n",
    "consumers.select('Consumer_ID',upper_udf(col(\"Occupation\"))).show(5)"
   ]
  },
  {
   "cell_type": "code",
   "execution_count": 33,
   "metadata": {},
   "outputs": [
    {
     "name": "stdout",
     "output_type": "stream",
     "text": [
      "+-----------+--------------+--------------------+\n",
      "|Consumer_ID|Overall_Rating|MaxRatingPerConsumer|\n",
      "+-----------+--------------+--------------------+\n",
      "|      U1001|             1|                   2|\n",
      "|      U1001|             2|                   2|\n",
      "|      U1001|             0|                   2|\n",
      "|      U1001|             1|                   2|\n",
      "|      U1001|             1|                   2|\n",
      "|      U1001|             1|                   2|\n",
      "|      U1001|             1|                   2|\n",
      "|      U1001|             2|                   2|\n",
      "|      U1001|             1|                   2|\n",
      "|      U1002|             2|                   2|\n",
      "|      U1002|             1|                   2|\n",
      "|      U1002|             1|                   2|\n",
      "|      U1002|             2|                   2|\n",
      "|      U1002|             1|                   2|\n",
      "|      U1002|             2|                   2|\n",
      "|      U1002|             1|                   2|\n",
      "|      U1002|             2|                   2|\n",
      "|      U1002|             1|                   2|\n",
      "|      U1002|             1|                   2|\n",
      "|      U1003|             0|                   2|\n",
      "+-----------+--------------+--------------------+\n",
      "only showing top 20 rows\n",
      "\n"
     ]
    }
   ],
   "source": [
    "# Window functions - example with Max\n",
    "# Let's find the maximum rating given by any customer. In SQL, you would write it like:\n",
    "# Select Consumer_ID, max(Overall_Rating) over(partition by Consumer_ID) as max_salary from emp_unique\n",
    "\n",
    "window_spec = Window.partitionBy(col(\"Consumer_ID\"))\n",
    "window_df = ratings.withColumn(\"MaxRatingPerConsumer\", max(col(\"Overall_Rating\")).over(window_spec))\n",
    "window_df.select(\"Consumer_ID\", \"Overall_Rating\", \"MaxRatingPerConsumer\").show()"
   ]
  },
  {
   "cell_type": "code",
   "execution_count": null,
   "metadata": {},
   "outputs": [],
   "source": [
    "# Expr() is a function that allows you to use SQL-like functions. E.g. \"CASE WHEN\" statement. \n",
    "# Useful when you are most familiar with SQL. \n",
    "\n",
    "df = consumers.withColumn(\"Budget_shortened\", expr(\"CASE WHEN Budget = 'High' THEN 'H' \" \\\n",
    "            + \"WHEN Budget = 'Medium' THEN 'M' ELSE 'L' END\"))\n",
    "\n",
    "df.select('Consumer_ID','Budget', 'Budget_shortened').show(10)"
   ]
  }
 ],
 "metadata": {
  "kernelspec": {
   "display_name": "Python 3",
   "language": "python",
   "name": "python3"
  },
  "language_info": {
   "codemirror_mode": {
    "name": "ipython",
    "version": 3
   },
   "file_extension": ".py",
   "mimetype": "text/x-python",
   "name": "python",
   "nbconvert_exporter": "python",
   "pygments_lexer": "ipython3",
   "version": "3.12.4"
  }
 },
 "nbformat": 4,
 "nbformat_minor": 2
}
